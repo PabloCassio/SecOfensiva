{
  "nbformat": 4,
  "nbformat_minor": 0,
  "metadata": {
    "colab": {
      "name": "atividades_python",
      "provenance": [],
      "authorship_tag": "ABX9TyOJMFCq+BR3nk3oTL+b092g",
      "include_colab_link": true
    },
    "kernelspec": {
      "name": "python3",
      "display_name": "Python 3"
    },
    "language_info": {
      "name": "python"
    }
  },
  "cells": [
    {
      "cell_type": "markdown",
      "metadata": {
        "id": "view-in-github",
        "colab_type": "text"
      },
      "source": [
        "<a href=\"https://colab.research.google.com/github/PabloCassio/SecOfensiva/blob/main/atividades_python.ipynb\" target=\"_parent\"><img src=\"https://colab.research.google.com/assets/colab-badge.svg\" alt=\"Open In Colab\"/></a>"
      ]
    },
    {
      "cell_type": "code",
      "metadata": {
        "colab": {
          "base_uri": "https://localhost:8080/"
        },
        "id": "7QYb9SX9ns8Z",
        "outputId": "f12ce0ce-2db0-4914-dd37-a6bffd39832f"
      },
      "source": [
        "### Soma de dois números\n",
        "\n",
        "\n",
        "while(True):\n",
        "  try:\n",
        "    a = float(input(\"Digite um número para soma ou digite letra para sair: \"))\n",
        "    b= float(input(\"Digite o segundo número para soma ou digite letra para sair: \"))\n",
        "    print(\"O resultado da soma foi: \", a + b)\n",
        "  except ValueError:\n",
        "      print(\"Programa encerrado!\")\n",
        "      break"
      ],
      "execution_count": null,
      "outputs": [
        {
          "output_type": "stream",
          "name": "stdout",
          "text": [
            "Digite um número para soma ou digite letra para sair: a\n",
            "Programa encerrado!\n"
          ]
        }
      ]
    },
    {
      "cell_type": "code",
      "metadata": {
        "colab": {
          "base_uri": "https://localhost:8080/"
        },
        "id": "2OkJU4ILnriC",
        "outputId": "4bfaacbe-dd6f-4ef6-ef9a-45b4e3091894"
      },
      "source": [
        "### Converte metros para centímetros\n",
        "\n",
        "while(True):\n",
        "  try:\n",
        "    a = float(input(\"Digite uma distância em metros: \"))\n",
        "   \n",
        "    print(a, \" metros são \", a * 100, \" centímetros\")\n",
        "  except ValueError:\n",
        "      print(\"Programa encerrado!\")\n",
        "      break"
      ],
      "execution_count": null,
      "outputs": [
        {
          "output_type": "stream",
          "name": "stdout",
          "text": [
            "Digite uma distância em metros: a\n",
            "Programa encerrado!\n"
          ]
        }
      ]
    },
    {
      "cell_type": "code",
      "metadata": {
        "colab": {
          "base_uri": "https://localhost:8080/",
          "height": 765
        },
        "id": "0n0aFLW2A_Lk",
        "outputId": "e1b67588-e47a-44b9-a4e7-e5b633d7684f"
      },
      "source": [
        "#verifica maior\n",
        "\n",
        "while(True):\n",
        "  try:\n",
        "    a = float(input(\"Digite um número  ou digite letra para sair: \"))\n",
        "    b= float(input(\"Digite o segundo número  ou digite letra para sair: \"))\n",
        "    if a > b:\n",
        "      print(a, \" é o maior número dos dois números digitados! \")\n",
        "    elif a < b:\n",
        "       print(b, \" é o maior número dos dois números digitados! \")\n",
        "    else:\n",
        "      print(\"os dois números são iguais\")\n",
        "    \n",
        "  except ValueError:\n",
        "      print(\"Programa encerrado!\")\n",
        "      break"
      ],
      "execution_count": null,
      "outputs": [
        {
          "output_type": "stream",
          "name": "stdout",
          "text": [
            "Digite um número  ou digite letra para sair: 23\n",
            "Digite o segundo número  ou digite letra para sair: -23\n",
            "23.0  é o maior número dos dois números digitados! \n",
            "Digite um número  ou digite letra para sair: 23\n",
            "Digite o segundo número  ou digite letra para sair: 23\n",
            "os dois números são iguais\n",
            "Digite um número  ou digite letra para sair: 75\n",
            "Digite o segundo número  ou digite letra para sair: 72\n",
            "75.0  é o maior número dos dois números digitados! \n",
            "Digite um número  ou digite letra para sair: 72\n",
            "Digite o segundo número  ou digite letra para sair: 76\n",
            "76.0  é o maior número dos dois números digitados! \n"
          ]
        },
        {
          "output_type": "error",
          "ename": "KeyboardInterrupt",
          "evalue": "ignored",
          "traceback": [
            "\u001b[0;31m---------------------------------------------------------------------------\u001b[0m",
            "\u001b[0;31mKeyboardInterrupt\u001b[0m                         Traceback (most recent call last)",
            "\u001b[0;32m/usr/local/lib/python3.7/dist-packages/ipykernel/kernelbase.py\u001b[0m in \u001b[0;36m_input_request\u001b[0;34m(self, prompt, ident, parent, password)\u001b[0m\n\u001b[1;32m    728\u001b[0m             \u001b[0;32mtry\u001b[0m\u001b[0;34m:\u001b[0m\u001b[0;34m\u001b[0m\u001b[0;34m\u001b[0m\u001b[0m\n\u001b[0;32m--> 729\u001b[0;31m                 \u001b[0mident\u001b[0m\u001b[0;34m,\u001b[0m \u001b[0mreply\u001b[0m \u001b[0;34m=\u001b[0m \u001b[0mself\u001b[0m\u001b[0;34m.\u001b[0m\u001b[0msession\u001b[0m\u001b[0;34m.\u001b[0m\u001b[0mrecv\u001b[0m\u001b[0;34m(\u001b[0m\u001b[0mself\u001b[0m\u001b[0;34m.\u001b[0m\u001b[0mstdin_socket\u001b[0m\u001b[0;34m,\u001b[0m \u001b[0;36m0\u001b[0m\u001b[0;34m)\u001b[0m\u001b[0;34m\u001b[0m\u001b[0;34m\u001b[0m\u001b[0m\n\u001b[0m\u001b[1;32m    730\u001b[0m             \u001b[0;32mexcept\u001b[0m \u001b[0mException\u001b[0m\u001b[0;34m:\u001b[0m\u001b[0;34m\u001b[0m\u001b[0;34m\u001b[0m\u001b[0m\n",
            "\u001b[0;32m/usr/local/lib/python3.7/dist-packages/jupyter_client/session.py\u001b[0m in \u001b[0;36mrecv\u001b[0;34m(self, socket, mode, content, copy)\u001b[0m\n\u001b[1;32m    802\u001b[0m         \u001b[0;32mtry\u001b[0m\u001b[0;34m:\u001b[0m\u001b[0;34m\u001b[0m\u001b[0;34m\u001b[0m\u001b[0m\n\u001b[0;32m--> 803\u001b[0;31m             \u001b[0mmsg_list\u001b[0m \u001b[0;34m=\u001b[0m \u001b[0msocket\u001b[0m\u001b[0;34m.\u001b[0m\u001b[0mrecv_multipart\u001b[0m\u001b[0;34m(\u001b[0m\u001b[0mmode\u001b[0m\u001b[0;34m,\u001b[0m \u001b[0mcopy\u001b[0m\u001b[0;34m=\u001b[0m\u001b[0mcopy\u001b[0m\u001b[0;34m)\u001b[0m\u001b[0;34m\u001b[0m\u001b[0;34m\u001b[0m\u001b[0m\n\u001b[0m\u001b[1;32m    804\u001b[0m         \u001b[0;32mexcept\u001b[0m \u001b[0mzmq\u001b[0m\u001b[0;34m.\u001b[0m\u001b[0mZMQError\u001b[0m \u001b[0;32mas\u001b[0m \u001b[0me\u001b[0m\u001b[0;34m:\u001b[0m\u001b[0;34m\u001b[0m\u001b[0;34m\u001b[0m\u001b[0m\n",
            "\u001b[0;32m/usr/local/lib/python3.7/dist-packages/zmq/sugar/socket.py\u001b[0m in \u001b[0;36mrecv_multipart\u001b[0;34m(self, flags, copy, track)\u001b[0m\n\u001b[1;32m    624\u001b[0m         \"\"\"\n\u001b[0;32m--> 625\u001b[0;31m         \u001b[0mparts\u001b[0m \u001b[0;34m=\u001b[0m \u001b[0;34m[\u001b[0m\u001b[0mself\u001b[0m\u001b[0;34m.\u001b[0m\u001b[0mrecv\u001b[0m\u001b[0;34m(\u001b[0m\u001b[0mflags\u001b[0m\u001b[0;34m,\u001b[0m \u001b[0mcopy\u001b[0m\u001b[0;34m=\u001b[0m\u001b[0mcopy\u001b[0m\u001b[0;34m,\u001b[0m \u001b[0mtrack\u001b[0m\u001b[0;34m=\u001b[0m\u001b[0mtrack\u001b[0m\u001b[0;34m)\u001b[0m\u001b[0;34m]\u001b[0m\u001b[0;34m\u001b[0m\u001b[0;34m\u001b[0m\u001b[0m\n\u001b[0m\u001b[1;32m    626\u001b[0m         \u001b[0;31m# have first part already, only loop while more to receive\u001b[0m\u001b[0;34m\u001b[0m\u001b[0;34m\u001b[0m\u001b[0;34m\u001b[0m\u001b[0m\n",
            "\u001b[0;32mzmq/backend/cython/socket.pyx\u001b[0m in \u001b[0;36mzmq.backend.cython.socket.Socket.recv\u001b[0;34m()\u001b[0m\n",
            "\u001b[0;32mzmq/backend/cython/socket.pyx\u001b[0m in \u001b[0;36mzmq.backend.cython.socket.Socket.recv\u001b[0;34m()\u001b[0m\n",
            "\u001b[0;32mzmq/backend/cython/socket.pyx\u001b[0m in \u001b[0;36mzmq.backend.cython.socket._recv_copy\u001b[0;34m()\u001b[0m\n",
            "\u001b[0;32m/usr/local/lib/python3.7/dist-packages/zmq/backend/cython/checkrc.pxd\u001b[0m in \u001b[0;36mzmq.backend.cython.checkrc._check_rc\u001b[0;34m()\u001b[0m\n",
            "\u001b[0;31mKeyboardInterrupt\u001b[0m: ",
            "\nDuring handling of the above exception, another exception occurred:\n",
            "\u001b[0;31mKeyboardInterrupt\u001b[0m                         Traceback (most recent call last)",
            "\u001b[0;32m<ipython-input-31-3470f6366877>\u001b[0m in \u001b[0;36m<module>\u001b[0;34m()\u001b[0m\n\u001b[1;32m      3\u001b[0m \u001b[0;32mwhile\u001b[0m\u001b[0;34m(\u001b[0m\u001b[0;32mTrue\u001b[0m\u001b[0;34m)\u001b[0m\u001b[0;34m:\u001b[0m\u001b[0;34m\u001b[0m\u001b[0;34m\u001b[0m\u001b[0m\n\u001b[1;32m      4\u001b[0m   \u001b[0;32mtry\u001b[0m\u001b[0;34m:\u001b[0m\u001b[0;34m\u001b[0m\u001b[0;34m\u001b[0m\u001b[0m\n\u001b[0;32m----> 5\u001b[0;31m     \u001b[0ma\u001b[0m \u001b[0;34m=\u001b[0m \u001b[0mfloat\u001b[0m\u001b[0;34m(\u001b[0m\u001b[0minput\u001b[0m\u001b[0;34m(\u001b[0m\u001b[0;34m\"Digite um número  ou digite letra para sair: \"\u001b[0m\u001b[0;34m)\u001b[0m\u001b[0;34m)\u001b[0m\u001b[0;34m\u001b[0m\u001b[0;34m\u001b[0m\u001b[0m\n\u001b[0m\u001b[1;32m      6\u001b[0m     \u001b[0mb\u001b[0m\u001b[0;34m=\u001b[0m \u001b[0mfloat\u001b[0m\u001b[0;34m(\u001b[0m\u001b[0minput\u001b[0m\u001b[0;34m(\u001b[0m\u001b[0;34m\"Digite o segundo número  ou digite letra para sair: \"\u001b[0m\u001b[0;34m)\u001b[0m\u001b[0;34m)\u001b[0m\u001b[0;34m\u001b[0m\u001b[0;34m\u001b[0m\u001b[0m\n\u001b[1;32m      7\u001b[0m     \u001b[0;32mif\u001b[0m \u001b[0ma\u001b[0m \u001b[0;34m>\u001b[0m \u001b[0mb\u001b[0m\u001b[0;34m:\u001b[0m\u001b[0;34m\u001b[0m\u001b[0;34m\u001b[0m\u001b[0m\n",
            "\u001b[0;32m/usr/local/lib/python3.7/dist-packages/ipykernel/kernelbase.py\u001b[0m in \u001b[0;36mraw_input\u001b[0;34m(self, prompt)\u001b[0m\n\u001b[1;32m    702\u001b[0m             \u001b[0mself\u001b[0m\u001b[0;34m.\u001b[0m\u001b[0m_parent_ident\u001b[0m\u001b[0;34m,\u001b[0m\u001b[0;34m\u001b[0m\u001b[0;34m\u001b[0m\u001b[0m\n\u001b[1;32m    703\u001b[0m             \u001b[0mself\u001b[0m\u001b[0;34m.\u001b[0m\u001b[0m_parent_header\u001b[0m\u001b[0;34m,\u001b[0m\u001b[0;34m\u001b[0m\u001b[0;34m\u001b[0m\u001b[0m\n\u001b[0;32m--> 704\u001b[0;31m             \u001b[0mpassword\u001b[0m\u001b[0;34m=\u001b[0m\u001b[0;32mFalse\u001b[0m\u001b[0;34m,\u001b[0m\u001b[0;34m\u001b[0m\u001b[0;34m\u001b[0m\u001b[0m\n\u001b[0m\u001b[1;32m    705\u001b[0m         )\n\u001b[1;32m    706\u001b[0m \u001b[0;34m\u001b[0m\u001b[0m\n",
            "\u001b[0;32m/usr/local/lib/python3.7/dist-packages/ipykernel/kernelbase.py\u001b[0m in \u001b[0;36m_input_request\u001b[0;34m(self, prompt, ident, parent, password)\u001b[0m\n\u001b[1;32m    732\u001b[0m             \u001b[0;32mexcept\u001b[0m \u001b[0mKeyboardInterrupt\u001b[0m\u001b[0;34m:\u001b[0m\u001b[0;34m\u001b[0m\u001b[0;34m\u001b[0m\u001b[0m\n\u001b[1;32m    733\u001b[0m                 \u001b[0;31m# re-raise KeyboardInterrupt, to truncate traceback\u001b[0m\u001b[0;34m\u001b[0m\u001b[0;34m\u001b[0m\u001b[0;34m\u001b[0m\u001b[0m\n\u001b[0;32m--> 734\u001b[0;31m                 \u001b[0;32mraise\u001b[0m \u001b[0mKeyboardInterrupt\u001b[0m\u001b[0;34m\u001b[0m\u001b[0;34m\u001b[0m\u001b[0m\n\u001b[0m\u001b[1;32m    735\u001b[0m             \u001b[0;32melse\u001b[0m\u001b[0;34m:\u001b[0m\u001b[0;34m\u001b[0m\u001b[0;34m\u001b[0m\u001b[0m\n\u001b[1;32m    736\u001b[0m                 \u001b[0;32mbreak\u001b[0m\u001b[0;34m\u001b[0m\u001b[0;34m\u001b[0m\u001b[0m\n",
            "\u001b[0;31mKeyboardInterrupt\u001b[0m: "
          ]
        }
      ]
    },
    {
      "cell_type": "code",
      "metadata": {
        "colab": {
          "base_uri": "https://localhost:8080/"
        },
        "id": "pMFWEJsY_FkT",
        "outputId": "8bbd7212-029b-43d7-97b5-598c895a657a"
      },
      "source": [
        "### verifica positivos e negativos\n",
        "\n",
        "while(True):\n",
        "  try:\n",
        "    a = float(input(\"Digite um número ou qualquer outra coisa para encerrar: \"))\n",
        "    \n",
        "    if a == 0:\n",
        "      print(a, \"É zero\")\n",
        "    elif a > 0:\n",
        "      print(a, \"É positivo\")\n",
        "    else:\n",
        "      print(a, \"É negativo\")\n",
        "  \n",
        "  except ValueError:\n",
        "      print(\"Programa encerrado!\")\n",
        "      break"
      ],
      "execution_count": null,
      "outputs": [
        {
          "output_type": "stream",
          "name": "stdout",
          "text": [
            "Digite um número ou qualquer outra coisa para encerrar: 0\n",
            "0.0 É zero\n",
            "Digite um número ou qualquer outra coisa para encerrar: -0\n",
            "-0.0 É zero\n",
            "Digite um número ou qualquer outra coisa para encerrar: 23\n",
            "23.0 É positivo\n",
            "Digite um número ou qualquer outra coisa para encerrar: -23\n",
            "-23.0 É negativo\n",
            "Digite um número ou qualquer outra coisa para encerrar: -0\n",
            "-0.0 É zero\n",
            "Digite um número ou qualquer outra coisa para encerrar: -1\n",
            "-1.0 É negativo\n",
            "Digite um número ou qualquer outra coisa para encerrar: 1\n",
            "1.0 É positivo\n",
            "Digite um número ou qualquer outra coisa para encerrar: 1\n",
            "1.0 É positivo\n",
            "Digite um número ou qualquer outra coisa para encerrar: 23\n",
            "23.0 É positivo\n",
            "Digite um número ou qualquer outra coisa para encerrar: !\n",
            "Programa encerrado!\n"
          ]
        }
      ]
    },
    {
      "cell_type": "code",
      "metadata": {
        "colab": {
          "base_uri": "https://localhost:8080/",
          "height": 901
        },
        "id": "172zhbHJB8Sa",
        "outputId": "ca7a8750-c0e8-4759-b501-7e6fa985e03b"
      },
      "source": [
        "#verifica maior e menor\n",
        "\n",
        "while(True):\n",
        "  try:\n",
        "    a = float(input(\"Digite um número  ou digite letra para sair: \"))\n",
        "    b= float(input(\"Digite o segundo número  ou digite letra para sair: \"))\n",
        "    c = float(input(\"Digite o terceiro número ou digite letra para sair: \"))\n",
        "    maior = a\n",
        "    menor = c\n",
        "    if b > maior:\n",
        "      maior = b\n",
        "    if c > maior:\n",
        "      maior = c\n",
        "    if a < menor:\n",
        "      menor = a\n",
        "    if b < menor:\n",
        "      menor = b\n",
        "    print(\"Maior número: \", maior,4\"\\nMenor número: \",menor)\n",
        "\n",
        "    \n",
        "  except ValueError:\n",
        "      print(\"Programa encerrado!\")\n",
        "      break"
      ],
      "execution_count": null,
      "outputs": [
        {
          "output_type": "stream",
          "name": "stdout",
          "text": [
            "Digite um número  ou digite letra para sair: 400\n",
            "Digite o segundo número  ou digite letra para sair: 300\n",
            "Digite o terceiro número ou digite letra para sair: 200\n",
            "Maior número:  400.0 \n",
            "Menor número:  200.0\n",
            "Digite um número  ou digite letra para sair: 200\n",
            "Digite o segundo número  ou digite letra para sair: 300\n",
            "Digite o terceiro número ou digite letra para sair: 400\n",
            "Maior número:  400.0 \n",
            "Menor número:  200.0\n",
            "Digite um número  ou digite letra para sair: 200\n",
            "Digite o segundo número  ou digite letra para sair: 600\n",
            "Digite o terceiro número ou digite letra para sair: 400\n",
            "Maior número:  600.0 \n",
            "Menor número:  200.0\n",
            "Digite um número  ou digite letra para sair: 400\n",
            "Digite o segundo número  ou digite letra para sair: 1\n",
            "Digite o terceiro número ou digite letra para sair: 600\n",
            "Maior número:  600.0 \n",
            "Menor número:  1.0\n"
          ]
        },
        {
          "output_type": "error",
          "ename": "KeyboardInterrupt",
          "evalue": "ignored",
          "traceback": [
            "\u001b[0;31m---------------------------------------------------------------------------\u001b[0m",
            "\u001b[0;31mKeyboardInterrupt\u001b[0m                         Traceback (most recent call last)",
            "\u001b[0;32m/usr/local/lib/python3.7/dist-packages/ipykernel/kernelbase.py\u001b[0m in \u001b[0;36m_input_request\u001b[0;34m(self, prompt, ident, parent, password)\u001b[0m\n\u001b[1;32m    728\u001b[0m             \u001b[0;32mtry\u001b[0m\u001b[0;34m:\u001b[0m\u001b[0;34m\u001b[0m\u001b[0;34m\u001b[0m\u001b[0m\n\u001b[0;32m--> 729\u001b[0;31m                 \u001b[0mident\u001b[0m\u001b[0;34m,\u001b[0m \u001b[0mreply\u001b[0m \u001b[0;34m=\u001b[0m \u001b[0mself\u001b[0m\u001b[0;34m.\u001b[0m\u001b[0msession\u001b[0m\u001b[0;34m.\u001b[0m\u001b[0mrecv\u001b[0m\u001b[0;34m(\u001b[0m\u001b[0mself\u001b[0m\u001b[0;34m.\u001b[0m\u001b[0mstdin_socket\u001b[0m\u001b[0;34m,\u001b[0m \u001b[0;36m0\u001b[0m\u001b[0;34m)\u001b[0m\u001b[0;34m\u001b[0m\u001b[0;34m\u001b[0m\u001b[0m\n\u001b[0m\u001b[1;32m    730\u001b[0m             \u001b[0;32mexcept\u001b[0m \u001b[0mException\u001b[0m\u001b[0;34m:\u001b[0m\u001b[0;34m\u001b[0m\u001b[0;34m\u001b[0m\u001b[0m\n",
            "\u001b[0;32m/usr/local/lib/python3.7/dist-packages/jupyter_client/session.py\u001b[0m in \u001b[0;36mrecv\u001b[0;34m(self, socket, mode, content, copy)\u001b[0m\n\u001b[1;32m    802\u001b[0m         \u001b[0;32mtry\u001b[0m\u001b[0;34m:\u001b[0m\u001b[0;34m\u001b[0m\u001b[0;34m\u001b[0m\u001b[0m\n\u001b[0;32m--> 803\u001b[0;31m             \u001b[0mmsg_list\u001b[0m \u001b[0;34m=\u001b[0m \u001b[0msocket\u001b[0m\u001b[0;34m.\u001b[0m\u001b[0mrecv_multipart\u001b[0m\u001b[0;34m(\u001b[0m\u001b[0mmode\u001b[0m\u001b[0;34m,\u001b[0m \u001b[0mcopy\u001b[0m\u001b[0;34m=\u001b[0m\u001b[0mcopy\u001b[0m\u001b[0;34m)\u001b[0m\u001b[0;34m\u001b[0m\u001b[0;34m\u001b[0m\u001b[0m\n\u001b[0m\u001b[1;32m    804\u001b[0m         \u001b[0;32mexcept\u001b[0m \u001b[0mzmq\u001b[0m\u001b[0;34m.\u001b[0m\u001b[0mZMQError\u001b[0m \u001b[0;32mas\u001b[0m \u001b[0me\u001b[0m\u001b[0;34m:\u001b[0m\u001b[0;34m\u001b[0m\u001b[0;34m\u001b[0m\u001b[0m\n",
            "\u001b[0;32m/usr/local/lib/python3.7/dist-packages/zmq/sugar/socket.py\u001b[0m in \u001b[0;36mrecv_multipart\u001b[0;34m(self, flags, copy, track)\u001b[0m\n\u001b[1;32m    624\u001b[0m         \"\"\"\n\u001b[0;32m--> 625\u001b[0;31m         \u001b[0mparts\u001b[0m \u001b[0;34m=\u001b[0m \u001b[0;34m[\u001b[0m\u001b[0mself\u001b[0m\u001b[0;34m.\u001b[0m\u001b[0mrecv\u001b[0m\u001b[0;34m(\u001b[0m\u001b[0mflags\u001b[0m\u001b[0;34m,\u001b[0m \u001b[0mcopy\u001b[0m\u001b[0;34m=\u001b[0m\u001b[0mcopy\u001b[0m\u001b[0;34m,\u001b[0m \u001b[0mtrack\u001b[0m\u001b[0;34m=\u001b[0m\u001b[0mtrack\u001b[0m\u001b[0;34m)\u001b[0m\u001b[0;34m]\u001b[0m\u001b[0;34m\u001b[0m\u001b[0;34m\u001b[0m\u001b[0m\n\u001b[0m\u001b[1;32m    626\u001b[0m         \u001b[0;31m# have first part already, only loop while more to receive\u001b[0m\u001b[0;34m\u001b[0m\u001b[0;34m\u001b[0m\u001b[0;34m\u001b[0m\u001b[0m\n",
            "\u001b[0;32mzmq/backend/cython/socket.pyx\u001b[0m in \u001b[0;36mzmq.backend.cython.socket.Socket.recv\u001b[0;34m()\u001b[0m\n",
            "\u001b[0;32mzmq/backend/cython/socket.pyx\u001b[0m in \u001b[0;36mzmq.backend.cython.socket.Socket.recv\u001b[0;34m()\u001b[0m\n",
            "\u001b[0;32mzmq/backend/cython/socket.pyx\u001b[0m in \u001b[0;36mzmq.backend.cython.socket._recv_copy\u001b[0;34m()\u001b[0m\n",
            "\u001b[0;32m/usr/local/lib/python3.7/dist-packages/zmq/backend/cython/checkrc.pxd\u001b[0m in \u001b[0;36mzmq.backend.cython.checkrc._check_rc\u001b[0;34m()\u001b[0m\n",
            "\u001b[0;31mKeyboardInterrupt\u001b[0m: ",
            "\nDuring handling of the above exception, another exception occurred:\n",
            "\u001b[0;31mKeyboardInterrupt\u001b[0m                         Traceback (most recent call last)",
            "\u001b[0;32m<ipython-input-35-b1b3aa5553fc>\u001b[0m in \u001b[0;36m<module>\u001b[0;34m()\u001b[0m\n\u001b[1;32m      3\u001b[0m \u001b[0;32mwhile\u001b[0m\u001b[0;34m(\u001b[0m\u001b[0;32mTrue\u001b[0m\u001b[0;34m)\u001b[0m\u001b[0;34m:\u001b[0m\u001b[0;34m\u001b[0m\u001b[0;34m\u001b[0m\u001b[0m\n\u001b[1;32m      4\u001b[0m   \u001b[0;32mtry\u001b[0m\u001b[0;34m:\u001b[0m\u001b[0;34m\u001b[0m\u001b[0;34m\u001b[0m\u001b[0m\n\u001b[0;32m----> 5\u001b[0;31m     \u001b[0ma\u001b[0m \u001b[0;34m=\u001b[0m \u001b[0mfloat\u001b[0m\u001b[0;34m(\u001b[0m\u001b[0minput\u001b[0m\u001b[0;34m(\u001b[0m\u001b[0;34m\"Digite um número  ou digite letra para sair: \"\u001b[0m\u001b[0;34m)\u001b[0m\u001b[0;34m)\u001b[0m\u001b[0;34m\u001b[0m\u001b[0;34m\u001b[0m\u001b[0m\n\u001b[0m\u001b[1;32m      6\u001b[0m     \u001b[0mb\u001b[0m\u001b[0;34m=\u001b[0m \u001b[0mfloat\u001b[0m\u001b[0;34m(\u001b[0m\u001b[0minput\u001b[0m\u001b[0;34m(\u001b[0m\u001b[0;34m\"Digite o segundo número  ou digite letra para sair: \"\u001b[0m\u001b[0;34m)\u001b[0m\u001b[0;34m)\u001b[0m\u001b[0;34m\u001b[0m\u001b[0;34m\u001b[0m\u001b[0m\n\u001b[1;32m      7\u001b[0m     \u001b[0mc\u001b[0m \u001b[0;34m=\u001b[0m \u001b[0mfloat\u001b[0m\u001b[0;34m(\u001b[0m\u001b[0minput\u001b[0m\u001b[0;34m(\u001b[0m\u001b[0;34m\"Digite o terceiro número ou digite letra para sair: \"\u001b[0m\u001b[0;34m)\u001b[0m\u001b[0;34m)\u001b[0m\u001b[0;34m\u001b[0m\u001b[0;34m\u001b[0m\u001b[0m\n",
            "\u001b[0;32m/usr/local/lib/python3.7/dist-packages/ipykernel/kernelbase.py\u001b[0m in \u001b[0;36mraw_input\u001b[0;34m(self, prompt)\u001b[0m\n\u001b[1;32m    702\u001b[0m             \u001b[0mself\u001b[0m\u001b[0;34m.\u001b[0m\u001b[0m_parent_ident\u001b[0m\u001b[0;34m,\u001b[0m\u001b[0;34m\u001b[0m\u001b[0;34m\u001b[0m\u001b[0m\n\u001b[1;32m    703\u001b[0m             \u001b[0mself\u001b[0m\u001b[0;34m.\u001b[0m\u001b[0m_parent_header\u001b[0m\u001b[0;34m,\u001b[0m\u001b[0;34m\u001b[0m\u001b[0;34m\u001b[0m\u001b[0m\n\u001b[0;32m--> 704\u001b[0;31m             \u001b[0mpassword\u001b[0m\u001b[0;34m=\u001b[0m\u001b[0;32mFalse\u001b[0m\u001b[0;34m,\u001b[0m\u001b[0;34m\u001b[0m\u001b[0;34m\u001b[0m\u001b[0m\n\u001b[0m\u001b[1;32m    705\u001b[0m         )\n\u001b[1;32m    706\u001b[0m \u001b[0;34m\u001b[0m\u001b[0m\n",
            "\u001b[0;32m/usr/local/lib/python3.7/dist-packages/ipykernel/kernelbase.py\u001b[0m in \u001b[0;36m_input_request\u001b[0;34m(self, prompt, ident, parent, password)\u001b[0m\n\u001b[1;32m    732\u001b[0m             \u001b[0;32mexcept\u001b[0m \u001b[0mKeyboardInterrupt\u001b[0m\u001b[0;34m:\u001b[0m\u001b[0;34m\u001b[0m\u001b[0;34m\u001b[0m\u001b[0m\n\u001b[1;32m    733\u001b[0m                 \u001b[0;31m# re-raise KeyboardInterrupt, to truncate traceback\u001b[0m\u001b[0;34m\u001b[0m\u001b[0;34m\u001b[0m\u001b[0;34m\u001b[0m\u001b[0m\n\u001b[0;32m--> 734\u001b[0;31m                 \u001b[0;32mraise\u001b[0m \u001b[0mKeyboardInterrupt\u001b[0m\u001b[0;34m\u001b[0m\u001b[0;34m\u001b[0m\u001b[0m\n\u001b[0m\u001b[1;32m    735\u001b[0m             \u001b[0;32melse\u001b[0m\u001b[0;34m:\u001b[0m\u001b[0;34m\u001b[0m\u001b[0;34m\u001b[0m\u001b[0m\n\u001b[1;32m    736\u001b[0m                 \u001b[0;32mbreak\u001b[0m\u001b[0;34m\u001b[0m\u001b[0;34m\u001b[0m\u001b[0m\n",
            "\u001b[0;31mKeyboardInterrupt\u001b[0m: "
          ]
        }
      ]
    },
    {
      "cell_type": "code",
      "metadata": {
        "colab": {
          "base_uri": "https://localhost:8080/"
        },
        "id": "B9pAgBJ9DcRV",
        "outputId": "d0fa2cce-d872-4f95-ae31-f4258f5bc6bd"
      },
      "source": [
        "#Nota entre 0 e 10\n",
        "\n",
        "while(True):\n",
        "  \n",
        "    nota = float(input(\"Digite uma nota entre 0 e 10: \"))\n",
        "    \n",
        "    if 0 <= a <=10:\n",
        "      print(\"Nota digitada: \", nota)\n",
        "      break\n",
        "    else:\n",
        "      print(\"Nota inválida, favor digitar novamente\")\n",
        "      continue\n",
        "  \n",
        "  "
      ],
      "execution_count": null,
      "outputs": [
        {
          "output_type": "stream",
          "name": "stdout",
          "text": [
            "Digite uma nota entre 0 e 10: 11\n",
            "Nota inválida, favor digitar novamente\n",
            "Digite uma nota entre 0 e 10: 23\n",
            "Nota inválida, favor digitar novamente\n",
            "Digite uma nota entre 0 e 10: 1\n",
            "Nota\n"
          ]
        }
      ]
    },
    {
      "cell_type": "markdown",
      "metadata": {
        "id": "wOcr9kS8AEg4"
      },
      "source": [
        ""
      ]
    },
    {
      "cell_type": "code",
      "metadata": {
        "colab": {
          "base_uri": "https://localhost:8080/"
        },
        "id": "XqVBlTlREnxY",
        "outputId": "1b3f9aec-a5a6-48e2-b4fa-bbce682bb1fe"
      },
      "source": [
        "#soma números e calcula média\n",
        "\n",
        "\n",
        "\n",
        "lista = []\n",
        "i = 1\n",
        "while True:\n",
        "  try:\n",
        "    a = float(input(f\"Digite o {i}º número: \"))\n",
        "    lista.append(a)\n",
        "    i += 1\n",
        "    if len(lista) == 5:\n",
        "     print(f\"A soma dos valores é: {sum(lista)} \\nA média dos valores é {sum(lista) / len(lista)}\")\n",
        "     break\n",
        "\n",
        "  except ValueError:\n",
        "    print(\"Valor inválido, favor digite o valor correto!\")\n",
        " \n",
        "    "
      ],
      "execution_count": null,
      "outputs": [
        {
          "output_type": "stream",
          "name": "stdout",
          "text": [
            "Digite o 1º número: 1\n",
            "Digite o 2º número: 2\n",
            "Digite o 3º número: 3\n",
            "Digite o 4º número: 4\n",
            "Digite o 5º número: 5\n",
            "A soma dos valores é: 15.0 \n",
            "A média dos valores é 3.0\n"
          ]
        }
      ]
    },
    {
      "cell_type": "code",
      "metadata": {
        "colab": {
          "base_uri": "https://localhost:8080/"
        },
        "id": "vkPWE1zSDm0h",
        "outputId": "ff01207d-18f3-4046-8f6d-31a0b6d1351d"
      },
      "source": [
        "### Números entre valores digitados\n",
        "\n",
        "lista = []\n",
        "i = 1\n",
        "while True:\n",
        "  try:\n",
        "    a = int(input(f\"Digite o {i}º número ou caracteres não numéricos para sair: \"))\n",
        "    lista.append(a)\n",
        "    i += 1\n",
        "    if len(lista) == 2:\n",
        "      print(f\"Número contidos no intervalo de {lista[0]} a {lista[1]}\")\n",
        "      for num in range(lista[0],lista[1]+1):\n",
        "        print(num)\n",
        "\n",
        "      i = 1\n",
        "      lista.clear()\n",
        "     \n",
        "\n",
        "  except ValueError:\n",
        "    print(\"Programa encerrado!\")\n",
        "    break"
      ],
      "execution_count": null,
      "outputs": [
        {
          "output_type": "stream",
          "name": "stdout",
          "text": [
            "Digite o 1º número ou caracteres não numéricos para sair: a\n",
            "Valor inválido, favor digite o valor correto!\n"
          ]
        }
      ]
    },
    {
      "cell_type": "code",
      "metadata": {
        "id": "4nnzqtlG6_lD"
      },
      "source": [
        ""
      ],
      "execution_count": null,
      "outputs": []
    },
    {
      "cell_type": "code",
      "metadata": {
        "id": "2ys6BXwkFfUy",
        "colab": {
          "base_uri": "https://localhost:8080/"
        },
        "outputId": "aa690292-a4e2-4804-9862-e9412067e446"
      },
      "source": [
        "names = []\n",
        "\n",
        "while True:\n",
        "\n",
        "  a = input(\"Digite um nome ou 0 para sair: \")\n",
        "  if a == \"0\":\n",
        "    break\n",
        "  names.append(a)\n",
        "\n",
        "for nomes in names:\n",
        "  print(nomes)\n"
      ],
      "execution_count": 12,
      "outputs": [
        {
          "output_type": "stream",
          "name": "stdout",
          "text": [
            "Digite um nome ou 0 para sair: Pablo\n",
            "Digite um nome ou 0 para sair: Lopes\n",
            "Digite um nome ou 0 para sair: Anchieta\n",
            "Digite um nome ou 0 para sair: 0\n",
            "Pablo\n",
            "Lopes\n",
            "Anchieta\n"
          ]
        }
      ]
    },
    {
      "cell_type": "code",
      "metadata": {
        "colab": {
          "base_uri": "https://localhost:8080/"
        },
        "id": "T6YqKRCl8h4m",
        "outputId": "d6aa23a9-f747-4627-a814-0a9bb84817c5"
      },
      "source": [
        "# Mostra mensagem com nomes\n",
        "names = []\n",
        "\n",
        "while True:\n",
        "\n",
        "  a = input(\"Digite um nome ou 0 para sair: \")\n",
        "  if a == \"0\":\n",
        "    break\n",
        "  names.append(a)\n",
        "\n",
        "for nomes in names:\n",
        "  print(f\"Bem-vindo {nomes}!\")\n",
        "\n"
      ],
      "execution_count": 13,
      "outputs": [
        {
          "output_type": "stream",
          "name": "stdout",
          "text": [
            "Digite um nome ou 0 para sair: Pablo\n",
            "Digite um nome ou 0 para sair: Lopes\n",
            "Digite um nome ou 0 para sair: mario\n",
            "Digite um nome ou 0 para sair: FErr\n",
            "Digite um nome ou 0 para sair: 0\n",
            "Bem-vindo Pablo!\n",
            "Bem-vindo Lopes!\n",
            "Bem-vindo mario!\n",
            "Bem-vindo FErr!\n"
          ]
        }
      ]
    },
    {
      "cell_type": "code",
      "metadata": {
        "colab": {
          "base_uri": "https://localhost:8080/"
        },
        "id": "PvbVOKef9Mjt",
        "outputId": "4cd4385b-e123-403a-a073-a2ede531f32e"
      },
      "source": [
        "# Mostra mensagem sobre carros\n",
        "import random\n",
        "\n",
        "namescar = []\n",
        "\n",
        "while True:\n",
        "\n",
        "  a = input(\"Digite um nome de um carro ou 0 para sair: \")\n",
        "  if a == \"0\":\n",
        "    break\n",
        "  namescar.append(a)\n",
        "\n",
        "for nomes in namescar:\n",
        "  elemento = random.choice(namescar)\n",
        "  frases = [f\"Com um {elemento} você pode mais!\", f\"Gostaria de comprar um {elemento}?\", f\"Descubra a potência do {elemento} para correr!\"]\n",
        "  escolha = random.choice(frases)\n",
        "  print(escolha)"
      ],
      "execution_count": 21,
      "outputs": [
        {
          "output_type": "stream",
          "name": "stdout",
          "text": [
            "Digite um nome de um carro ou 0 para sair: Ferrari\n",
            "Digite um nome de um carro ou 0 para sair: Mercedes\n",
            "Digite um nome de um carro ou 0 para sair: Mustang\n",
            "Digite um nome de um carro ou 0 para sair: Chevette\n",
            "Digite um nome de um carro ou 0 para sair: Gol\n",
            "Digite um nome de um carro ou 0 para sair: Siena\n",
            "Digite um nome de um carro ou 0 para sair: 0\n",
            "Com um Chevette você pode mais!\n",
            "Com um Gol você pode mais!\n",
            "Descubra a potência do Siena para correr!\n",
            "Com um Siena você pode mais!\n",
            "Descubra a potência do Ferrari para correr!\n",
            "Com um Chevette você pode mais!\n"
          ]
        }
      ]
    }
  ]
}